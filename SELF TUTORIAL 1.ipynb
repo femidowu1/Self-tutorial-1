{
 "cells": [
  {
   "cell_type": "code",
   "execution_count": 3,
   "id": "15d6daf8",
   "metadata": {},
   "outputs": [
    {
     "name": "stdout",
     "output_type": "stream",
     "text": [
      "HELLO WORLD!\n"
     ]
    }
   ],
   "source": [
    "print (\"HELLO WORLD!\")"
   ]
  },
  {
   "cell_type": "code",
   "execution_count": 5,
   "id": "46edf916",
   "metadata": {},
   "outputs": [
    {
     "name": "stdout",
     "output_type": "stream",
     "text": [
      "Olayinka\n",
      "Welcome to class\n"
     ]
    }
   ],
   "source": [
    "print (\"Olayinka\")\n",
    "print (\"Welcome to class\")"
   ]
  },
  {
   "cell_type": "code",
   "execution_count": 10,
   "id": "40d97992",
   "metadata": {},
   "outputs": [
    {
     "name": "stdout",
     "output_type": "stream",
     "text": [
      "4\n",
      "1\n"
     ]
    },
    {
     "data": {
      "text/plain": [
       "20"
      ]
     },
     "execution_count": 10,
     "metadata": {},
     "output_type": "execute_result"
    }
   ],
   "source": [
    "print (2 + 2)\n",
    "print (6 - 5)\n",
    "4 + 16"
   ]
  },
  {
   "cell_type": "code",
   "execution_count": 11,
   "id": "f75b6767",
   "metadata": {},
   "outputs": [
    {
     "name": "stdout",
     "output_type": "stream",
     "text": [
      "60\n"
     ]
    }
   ],
   "source": [
    "print (20 * 3)"
   ]
  },
  {
   "cell_type": "code",
   "execution_count": 17,
   "id": "9eb70ab9",
   "metadata": {},
   "outputs": [
    {
     "name": "stdout",
     "output_type": "stream",
     "text": [
      "4.0\n"
     ]
    }
   ],
   "source": [
    "print (20 / 5)"
   ]
  },
  {
   "cell_type": "code",
   "execution_count": 24,
   "id": "9422c85d",
   "metadata": {},
   "outputs": [
    {
     "data": {
      "text/plain": [
       "6.666666666666667"
      ]
     },
     "execution_count": 24,
     "metadata": {},
     "output_type": "execute_result"
    }
   ],
   "source": [
    "#floor division\n",
    "\n",
    "20 / 3"
   ]
  },
  {
   "cell_type": "code",
   "execution_count": 26,
   "id": "ad2368e0",
   "metadata": {},
   "outputs": [
    {
     "data": {
      "text/plain": [
       "6"
      ]
     },
     "execution_count": 26,
     "metadata": {},
     "output_type": "execute_result"
    }
   ],
   "source": [
    "# // gives us number of times a number can divide a number\n",
    "20 // 3"
   ]
  },
  {
   "cell_type": "code",
   "execution_count": 27,
   "id": "22d53ec5",
   "metadata": {},
   "outputs": [
    {
     "data": {
      "text/plain": [
       "2"
      ]
     },
     "execution_count": 27,
     "metadata": {},
     "output_type": "execute_result"
    }
   ],
   "source": [
    "# (%) gives us only the remaider\n",
    "20 % 3\n"
   ]
  },
  {
   "cell_type": "code",
   "execution_count": 36,
   "id": "59519e18",
   "metadata": {},
   "outputs": [
    {
     "name": "stdout",
     "output_type": "stream",
     "text": [
      "8\n",
      "243\n",
      "15625\n"
     ]
    }
   ],
   "source": [
    "# raised to power\n",
    "\n",
    "print (2 ** 3)\n",
    "print (3 ** 5)\n",
    "print (5 ** 6)"
   ]
  },
  {
   "cell_type": "code",
   "execution_count": 38,
   "id": "beddebb9",
   "metadata": {},
   "outputs": [
    {
     "name": "stdout",
     "output_type": "stream",
     "text": [
      "4.0\n",
      "4.0\n"
     ]
    }
   ],
   "source": [
    "# square root\n",
    "print (16 ** 0.5)\n",
    "print (16 ** (1/2))"
   ]
  },
  {
   "cell_type": "code",
   "execution_count": 55,
   "id": "d3a42b6a",
   "metadata": {},
   "outputs": [
    {
     "data": {
      "text/plain": [
       "5.0"
      ]
     },
     "execution_count": 55,
     "metadata": {},
     "output_type": "execute_result"
    }
   ],
   "source": [
    "# BODMAS\n",
    "# SQUARE ROOT OF 25 RAISED TO POWER 2\n",
    "\n",
    "(16 + 9) ** (1/2)\n",
    "\n",
    "\n"
   ]
  },
  {
   "cell_type": "code",
   "execution_count": 54,
   "id": "ec87113c",
   "metadata": {},
   "outputs": [
    {
     "data": {
      "text/plain": [
       "6.0"
      ]
     },
     "execution_count": 54,
     "metadata": {},
     "output_type": "execute_result"
    }
   ],
   "source": [
    "36 ** (0.5)"
   ]
  },
  {
   "cell_type": "code",
   "execution_count": null,
   "id": "cc2e91df",
   "metadata": {},
   "outputs": [],
   "source": [
    "# VARIABLES : it is a container that carry data types\n",
    " # INTEGER 1,2,3,4,5\n",
    " # FLOAT 4.5 (DECIMAL)\n",
    " # STRING (ALPHABETS AND 'TEXT's)\n",
    " #BOOL (TRUE OR FALSE)\n",
    " #LIST ( MANDO, ORANGE, BANANA...)\n",
    " #DICT { KEY:VALUE, NAME: OLAYINKA}\n",
    " #SET (MANDO, ORANGE, BANANA..)\n",
    " #TUPLE\n",
    "    "
   ]
  },
  {
   "cell_type": "code",
   "execution_count": null,
   "id": "e766d432",
   "metadata": {},
   "outputs": [],
   "source": [
    "# Dont start with a number, dont start with a special character, no space"
   ]
  },
  {
   "cell_type": "code",
   "execution_count": 101,
   "id": "c45a36bc",
   "metadata": {},
   "outputs": [],
   "source": [
    "firstname = 'Olayinka'\n",
    "surname = \"Idowu\"\n",
    "age = 25\n",
    "account_balance = 200.16\n",
    "tax_rate = 5/100\n",
    "tax_amount = account_balance * tax_rate\n",
    "married = True"
   ]
  },
  {
   "cell_type": "code",
   "execution_count": 103,
   "id": "81772dcb",
   "metadata": {},
   "outputs": [
    {
     "name": "stdout",
     "output_type": "stream",
     "text": [
      "Olayinka\n",
      "Idowu\n",
      "25\n",
      "200.16\n",
      "10.008000000000001\n",
      "True\n"
     ]
    }
   ],
   "source": [
    "print (name)\n",
    "\n",
    "print (surname)\n",
    "\n",
    "print (age)\n",
    "\n",
    "print (account_balance)\n",
    "\n",
    "print (tax_amount)\n",
    "\n",
    "print (married)"
   ]
  },
  {
   "cell_type": "code",
   "execution_count": 97,
   "id": "bdd0684e",
   "metadata": {},
   "outputs": [
    {
     "data": {
      "text/plain": [
       "10.008000000000001"
      ]
     },
     "execution_count": 97,
     "metadata": {},
     "output_type": "execute_result"
    }
   ],
   "source": [
    "account_balance * tax_rate"
   ]
  },
  {
   "cell_type": "code",
   "execution_count": 89,
   "id": "9ba06c98",
   "metadata": {},
   "outputs": [
    {
     "data": {
      "text/plain": [
       "'Olayinka Idowu'"
      ]
     },
     "execution_count": 89,
     "metadata": {},
     "output_type": "execute_result"
    }
   ],
   "source": [
    "firstname+ ' ' + surname"
   ]
  },
  {
   "cell_type": "code",
   "execution_count": 109,
   "id": "cac8c55c",
   "metadata": {},
   "outputs": [
    {
     "data": {
      "text/plain": [
       "'OlayinkaOlayinkaOlayinkaOlayinkaOlayinka'"
      ]
     },
     "execution_count": 109,
     "metadata": {},
     "output_type": "execute_result"
    }
   ],
   "source": [
    "# you cannot space the output\n",
    "firstname * 5"
   ]
  },
  {
   "cell_type": "code",
   "execution_count": 113,
   "id": "b08d8d03",
   "metadata": {},
   "outputs": [
    {
     "data": {
      "text/plain": [
       "'- -- -- -- -- -- -- -- -- -- -'"
      ]
     },
     "execution_count": 113,
     "metadata": {},
     "output_type": "execute_result"
    }
   ],
   "source": [
    "'- -' * 10"
   ]
  },
  {
   "cell_type": "code",
   "execution_count": null,
   "id": "b005a82d",
   "metadata": {},
   "outputs": [],
   "source": [
    "\n"
   ]
  },
  {
   "cell_type": "code",
   "execution_count": 130,
   "id": "3c808887",
   "metadata": {},
   "outputs": [
    {
     "name": "stdout",
     "output_type": "stream",
     "text": [
      "Please enter your firstname? OLAYINKA\n",
      "Please enter your surname?IDOWU\n",
      "How old are you? 45\n",
      "How much is your account balance 50,000\n",
      "Your country tax? 0.5\n",
      "Are you married? YES\n"
     ]
    }
   ],
   "source": [
    "firstname = input ('Please enter your firstname? ')\n",
    "\n",
    "surname = input ('Please enter your surname?')\n",
    "\n",
    "age = int (input ('How old are you? '))\n",
    "\n",
    "account_balance = input ('How much is your account balance ')\n",
    "\n",
    "tax_rate = input (\"Your country tax? \")\n",
    "\n",
    "married = input (\"Are you married? \")"
   ]
  },
  {
   "cell_type": "code",
   "execution_count": 122,
   "id": "0b741135",
   "metadata": {},
   "outputs": [
    {
     "name": "stdout",
     "output_type": "stream",
     "text": [
      "OLAYINKA IDOWU 44 YEARS OLD\n"
     ]
    }
   ],
   "source": [
    "print (firstname, surname, age)"
   ]
  },
  {
   "cell_type": "code",
   "execution_count": 128,
   "id": "b70cee5a",
   "metadata": {},
   "outputs": [
    {
     "name": "stdout",
     "output_type": "stream",
     "text": [
      "FIRST NAME: OLAYINKA \n",
      "LAST NAME: IDOWU \n",
      "YOUR AGE: 45\n"
     ]
    }
   ],
   "source": [
    "print (\"FIRST NAME:\", firstname, '\\n'\n",
    "       'LAST NAME:', surname, '\\n'\n",
    "       \"YOUR AGE:\" , age)"
   ]
  },
  {
   "cell_type": "code",
   "execution_count": null,
   "id": "d5f25b2b",
   "metadata": {},
   "outputs": [],
   "source": [
    "# FUNCTION:  Its a block oc code designed to do a particular task. A function makes \n",
    "#you do calculations without duplicating the code.\n",
    "#It contains a Head And a Body and an output but its optional"
   ]
  },
  {
   "cell_type": "code",
   "execution_count": 135,
   "id": "a9b6cec0",
   "metadata": {},
   "outputs": [
    {
     "name": "stdout",
     "output_type": "stream",
     "text": [
      "Please enter your firstname? OLAYINKA\n",
      "Please enter your surname?IDOWU\n",
      "How old are you? 45\n",
      "How much is your salary 5000\n",
      "Your country tax? 0.1\n",
      "500.0\n"
     ]
    }
   ],
   "source": [
    "firstname = input ('Please enter your firstname? ')\n",
    "\n",
    "surname = input ('Please enter your surname?')\n",
    "\n",
    "age = int (input ('How old are you? '))\n",
    "\n",
    "salary = float (input ('How much is your salary '))\n",
    "\n",
    "tax_rate = float (input (\"Your country tax? \"))\n",
    "\n",
    "tax_amount = salary * tax_rate\n",
    "\n",
    "print (tax_amount)\n",
    "\n"
   ]
  },
  {
   "cell_type": "code",
   "execution_count": 143,
   "id": "c0f365e3",
   "metadata": {},
   "outputs": [],
   "source": [
    "def salary_tax_calculator():                        #HEAD\n",
    "\n",
    "    firstname = input ('Please enter your firstname? ')           #BODY\n",
    "\n",
    "    surname = input ('Please enter your surname?')\n",
    "\n",
    "    age = int (input ('How old are you? '))\n",
    "\n",
    "    salary = float (input ('How much is your salary '))\n",
    "\n",
    "    tax_rate = float (input (\"Your country tax? \"))\n",
    "\n",
    "    tax_amount = salary * tax_rate\n",
    "\n",
    "    gross_salary = salary\n",
    "\n",
    "    net_salary = salary - tax_amount\n",
    "\n",
    "    print (tax_amount)\n",
    "\n",
    "    print (f' My gross salary is {gross_salary}, and my take home salary is {net_salary} ')  #OPTIONAL OUTPUT"
   ]
  },
  {
   "cell_type": "code",
   "execution_count": 144,
   "id": "5350768d",
   "metadata": {},
   "outputs": [
    {
     "name": "stdout",
     "output_type": "stream",
     "text": [
      "Please enter your firstname? OLUSHOLA\n",
      "Please enter your surname?IDOWU\n",
      "How old are you? 47\n",
      "How much is your salary 60000\n",
      "Your country tax? 0.05\n",
      "3000.0\n",
      " My gross salary is 60000.0, and my take home salary is 57000.0 \n"
     ]
    }
   ],
   "source": [
    "salary_tax_calculator()"
   ]
  },
  {
   "cell_type": "code",
   "execution_count": 145,
   "id": "b5b96fff",
   "metadata": {},
   "outputs": [
    {
     "name": "stdout",
     "output_type": "stream",
     "text": [
      "Please enter your firstname? TIMILEHIN\n",
      "Please enter your surname?IDOWU\n",
      "How old are you? 13\n",
      "How much is your salary 4000\n",
      "Your country tax? 0.1\n",
      "400.0\n",
      " My gross salary is 4000.0, and my take home salary is 3600.0 \n"
     ]
    }
   ],
   "source": [
    "salary_tax_calculator()"
   ]
  },
  {
   "cell_type": "code",
   "execution_count": 150,
   "id": "2c7d4a89",
   "metadata": {},
   "outputs": [],
   "source": [
    "def salary_tax_calculator(firstname = \"Esther\", salary = 10000, tax_rate = 0.05):   #HEAD\n",
    "    \n",
    "    firstname = firstname                     #BODY\n",
    "    salary = salary\n",
    "    tax_rate = tax_rate\n",
    "    \n",
    "    tax_amount = salary * tax_rate\n",
    "    net_salary = salary - tax_amount\n",
    "    \n",
    "    return firstname, salary, net_salary              #OUTPUT\n",
    "    "
   ]
  },
  {
   "cell_type": "code",
   "execution_count": 151,
   "id": "d552213d",
   "metadata": {},
   "outputs": [
    {
     "data": {
      "text/plain": [
       "('Esther', 10000, 9500.0)"
      ]
     },
     "execution_count": 151,
     "metadata": {},
     "output_type": "execute_result"
    }
   ],
   "source": [
    "salary_tax_calculator()"
   ]
  },
  {
   "cell_type": "code",
   "execution_count": 155,
   "id": "9f11baaa",
   "metadata": {},
   "outputs": [
    {
     "data": {
      "text/plain": [
       "6"
      ]
     },
     "execution_count": 155,
     "metadata": {},
     "output_type": "execute_result"
    }
   ],
   "source": [
    "len (\"ESTHER\")"
   ]
  },
  {
   "cell_type": "code",
   "execution_count": null,
   "id": "9ec3c1a1",
   "metadata": {},
   "outputs": [],
   "source": []
  }
 ],
 "metadata": {
  "kernelspec": {
   "display_name": "Python 3 (ipykernel)",
   "language": "python",
   "name": "python3"
  },
  "language_info": {
   "codemirror_mode": {
    "name": "ipython",
    "version": 3
   },
   "file_extension": ".py",
   "mimetype": "text/x-python",
   "name": "python",
   "nbconvert_exporter": "python",
   "pygments_lexer": "ipython3",
   "version": "3.9.12"
  }
 },
 "nbformat": 4,
 "nbformat_minor": 5
}
